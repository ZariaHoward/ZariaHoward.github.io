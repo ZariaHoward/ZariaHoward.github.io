{
 "cells": [
  {
   "cell_type": "markdown",
   "metadata": {},
   "source": [
    "Neural networks that classify images are usually based on a process called [convolution](https://en.wikipedia.org/wiki/Convolution) (a kind of filtering), so they are called [convolutional neural networks](https://en.wikipedia.org/wiki/Convolutional_neural_network) (CNNs or ConvNets). CNNs were initially developed for tasks like speech recognition, but in the late 90s Yann LeCun developed a net with high accuracy on the recognition of handwritten digits.\n",
    "\n",
    "This network, or a similar one, is used regularly for reading the digits on handwritten checks and mail.\n",
    "\n",
    "One of the more recent breakthroughs in image classification is on the [ImageNet recognition task](image-net.org/challenges/LSVRC/2012/browse-synsets). In 2012, Krizhevsky et al. got a 40% error rate (\"top-1 error\") for classification of objects from 1000 categories, using a CNN with more layers than previously. At the end of 2015, that error has dropped to 19% with research from [He et al.](http://arxiv.org/abs/1512.03385) at Microsoft, and 17% with work from [Szegedy et al.](http://arxiv.org/abs/1512.00567). You can see a picture of some different network architectures from 1998 to 2015 here: [Visualizing CNN architectures side by side with mxnet](http://josephpcohen.com/w/visualizing-cnn-architectures-side-by-side-with-mxnet/).\n",
    "\n",
    "One of the best ways to understand what's going on inside a CNN is to [visualize the states at different layers](https://www.youtube.com/watch?v=AgkfIQ4IGaM). Andrej Karpathy has a great post describing [more things you can do with CNNs](http://cs231n.github.io/understanding-cnn/).\n",
    "\n",
    "In this example we will use TensorFlow to label an image and compare similarity in two different ways.\n",
    "\n",
    "First, we load TensorFlow and other libraries we will need."
   ]
  },
  {
   "cell_type": "code",
   "execution_count": 1,
   "metadata": {
    "collapsed": false
   },
   "outputs": [],
   "source": [
    "import os.path\n",
    "import numpy as np\n",
    "import tensorflow as tf\n",
    "import tensorflow.python.platform\n",
    "from tensorflow.python.platform import gfile\n",
    "import matplotlib.pyplot as plt\n",
    "from IPython.display import Image\n",
    "from os.path import basename\n",
    "from tqdm import tqdm\n",
    "%matplotlib inline"
   ]
  },
  {
   "cell_type": "markdown",
   "metadata": {},
   "source": [
    "Then we set up some variables to keep track of where the model files are, and load the model. This Inception-v3 network is almost 100MB and should have a 21% top-1 error, and 5% top-5 error."
   ]
  },
  {
   "cell_type": "code",
   "execution_count": 2,
   "metadata": {
    "collapsed": false
   },
   "outputs": [
    {
     "name": "stdout",
     "output_type": "stream",
     "text": [
      "CPU times: user 1.3 s, sys: 132 ms, total: 1.43 s\n",
      "Wall time: 1.46 s\n"
     ]
    }
   ],
   "source": [
    "model_dir = 'models/'\n",
    "model_labels = os.path.join(model_dir, 'imagenet_comp_graph_label_strings.txt')\n",
    "model_file = os.path.join(model_dir, 'tensorflow_inception_graph.pb')\n",
    "def create_graph(model_file):\n",
    "  with gfile.FastGFile(model_file, 'rb') as f:\n",
    "    graph_def = tf.GraphDef()\n",
    "    graph_def.ParseFromString(f.read())\n",
    "    _ = tf.import_graph_def(graph_def, name='')\n",
    "%time create_graph(model_file)"
   ]
  },
  {
   "cell_type": "markdown",
   "metadata": {},
   "source": [
    "Now we define a function that can load and process our images, with one flag that tells it whether to extract output from the final output of the network, or just before the final output. We'll get back to that in a moment."
   ]
  },
  {
   "cell_type": "code",
   "execution_count": 3,
   "metadata": {
    "collapsed": true
   },
   "outputs": [],
   "source": [
    "def run_inference_on_image(image):\n",
    "  image_data = gfile.FastGFile(image, 'rb').read()\n",
    "  with tf.Session() as sess:\n",
    "    pool, softmax = sess.run(('pool_3:0', 'softmax:0'), {'DecodeJpeg/contents:0': image_data})\n",
    "    return softmax.reshape(-1), pool.reshape(-1)"
   ]
  },
  {
   "cell_type": "markdown",
   "metadata": {},
   "source": [
    "Now we get a list of all the files to process."
   ]
  },
  {
   "cell_type": "code",
   "execution_count": 8,
   "metadata": {
    "collapsed": false
   },
   "outputs": [
    {
     "name": "stdout",
     "output_type": "stream",
     "text": [
      "59278\n"
     ]
    }
   ],
   "source": [
    "import os\n",
    "import fnmatch\n",
    "\n",
    "def list_all_files(directory, extensions=None):\n",
    "    for root, dirnames, filenames in os.walk(directory):\n",
    "        for filename in filenames:\n",
    "            base, ext = os.path.splitext(filename)\n",
    "            joined = os.path.join(root, filename)\n",
    "            if extensions is None or ext.lower() in extensions:\n",
    "                yield joined\n",
    "                \n",
    "files = list(list_all_files('../Teenie_Harris_JPG640/', ['.jpeg']))\n",
    "# files = files[47622:] # skip a bunch of them\n",
    "print len(files)"
   ]
  },
  {
   "cell_type": "markdown",
   "metadata": {},
   "source": [
    "Running this code on an image looks like this:"
   ]
  },
  {
   "cell_type": "code",
   "execution_count": 6,
   "metadata": {
    "collapsed": false
   },
   "outputs": [
    {
     "name": "stdout",
     "output_type": "stream",
     "text": [
      "CPU times: user 2.19 s, sys: 483 ms, total: 2.67 s\n",
      "Wall time: 1.5 s\n"
     ]
    }
   ],
   "source": [
    "%time predictions, features = run_inference_on_image(files[0])"
   ]
  },
  {
   "cell_type": "code",
   "execution_count": 7,
   "metadata": {
    "collapsed": false
   },
   "outputs": [
    {
     "name": "stderr",
     "output_type": "stream",
     "text": [
      "100%|██████████| 11656/11656 [4:22:14<00:00,  1.36s/it]\n"
     ]
    }
   ],
   "source": [
    "with open('predictions.csv', 'a') as pout, open('features.csv', 'a') as fout, open('filenames.csv', 'a') as fnout:\n",
    "    for fn in tqdm(files):\n",
    "        predictions, features = run_inference_on_image(fn)\n",
    "        \n",
    "        pout.write(','.join(map(str,predictions))+'\\n')\n",
    "        pout.flush()\n",
    "        \n",
    "        fout.write(','.join(map(str,features))+'\\n')\n",
    "        fout.flush()\n",
    "        \n",
    "        fnout.write(basename(fn)+'\\n')\n",
    "        fnout.flush()"
   ]
  },
  {
   "cell_type": "markdown",
   "metadata": {},
   "source": [
    "And we can see the classification vector it returns has 1008 elements (not sure why it's 1008 instead of 1000)."
   ]
  },
  {
   "cell_type": "markdown",
   "metadata": {},
   "source": [
    "If we plot the vector we can see one peak and a few smaller peaks."
   ]
  },
  {
   "cell_type": "code",
   "execution_count": 71,
   "metadata": {
    "collapsed": false
   },
   "outputs": [
    {
     "data": {
      "image/png": "[encoded data removed]",
      "text/plain": [
       "<matplotlib.figure.Figure at 0x121ed0450>"
      ]
     },
     "metadata": {},
     "output_type": "display_data"
    }
   ],
   "source": [
    "plt.figure(figsize=[30, 3])\n",
    "plt.plot(predictions)\n",
    "plt.show()"
   ]
  },
  {
   "cell_type": "markdown",
   "metadata": {},
   "source": [
    "To figure out what the name of this category is, we need to load the category names (also called synset names)."
   ]
  },
  {
   "cell_type": "code",
   "execution_count": 72,
   "metadata": {
    "collapsed": false
   },
   "outputs": [
    {
     "data": {
      "text/plain": [
       "1001"
      ]
     },
     "execution_count": 72,
     "metadata": {},
     "output_type": "execute_result"
    }
   ],
   "source": [
    "labels = []\n",
    "with open(model_labels) as f:\n",
    "    for label in f.readlines():\n",
    "        labels.append(label.strip())\n",
    "len(labels)"
   ]
  },
  {
   "cell_type": "markdown",
   "metadata": {},
   "source": [
    "Then we can use `argmax()` to find the index of that peak, and look up the word at that index."
   ]
  },
  {
   "cell_type": "code",
   "execution_count": 73,
   "metadata": {
    "collapsed": false
   },
   "outputs": [
    {
     "data": {
      "text/plain": [
       "'reel'"
      ]
     },
     "execution_count": 73,
     "metadata": {},
     "output_type": "execute_result"
    }
   ],
   "source": [
    "labels[predictions.argmax()]"
   ]
  },
  {
   "cell_type": "code",
   "execution_count": 1,
   "metadata": {
    "collapsed": false
   },
   "outputs": [
    {
     "data": {
      "text/plain": [
       "[0, 0, 0, 0, 0, 0, 0, 0, 0, 0, 0, 0, 0, 0, 0, 0, 0, 0, 0, 0]"
      ]
     },
     "execution_count": 1,
     "metadata": {},
     "output_type": "execute_result"
    }
   ],
   "source": []
  },
  {
   "cell_type": "code",
   "execution_count": null,
   "metadata": {
    "collapsed": true
   },
   "outputs": [],
   "source": []
  }
 ],
 "metadata": {
  "anaconda-cloud": {},
  "kernelspec": {
   "display_name": "Python 2",
   "language": "python",
   "name": "python2"
  },
  "language_info": {
   "codemirror_mode": {
    "name": "ipython",
    "version": 2
   },
   "file_extension": ".py",
   "mimetype": "text/x-python",
   "name": "python",
   "nbconvert_exporter": "python",
   "pygments_lexer": "ipython2",
   "version": "2.7.12"
  }
 },
 "nbformat": 4,
 "nbformat_minor": 0
}
