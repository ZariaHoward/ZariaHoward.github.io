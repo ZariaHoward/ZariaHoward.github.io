{
 "cells": [
  {
   "cell_type": "markdown",
   "metadata": {},
   "source": [
    "# Project Oxford: Computer Vision API example"
   ]
  },
  {
   "cell_type": "markdown",
   "metadata": {},
   "source": [
    "### This Jupyter notebook shows you how to get started with the Project Oxford <b>Computer Vision API</b> in Python, and how to visualize your results."
   ]
  },
  {
   "cell_type": "markdown",
   "metadata": {},
   "source": [
    "To use this notebook, you will need to get keys to <b>Computer Vision API</b>. Visit <a href=\"http://www.projectoxford.ai/vision\">www.projectoxford.ai/vision</a>, and then the “Try for free” button. On the “Sign in” page, use your Microsoft account to sign in and you will be able to subscribe to Computer Vision API and get free keys (Code of Conduct and TOS). After completing the sign-up process, paste your key into the variables section below. (Either the primary or the secondary key works.)"
   ]
  },
  {
   "cell_type": "code",
   "execution_count": 120,
   "metadata": {
    "collapsed": false
   },
   "outputs": [],
   "source": [
    "import time \n",
    "import requests\n",
    "# import cv2\n",
    "# import operator\n",
    "import numpy as np\n",
    "from __future__ import print_function\n",
    "\n",
    "# Import library to display results\n",
    "import matplotlib.pyplot as plt\n",
    "%matplotlib inline \n",
    "# Display images within Jupyter\n",
    "\n",
    "import pickle\n",
    "from pymongo import MongoClient\n",
    "import pprint\n",
    "import json as json_lib"
   ]
  },
  {
   "cell_type": "code",
   "execution_count": 121,
   "metadata": {
    "collapsed": false
   },
   "outputs": [],
   "source": [
    "# Variables\n",
    "# used to be _url and _key\n",
    "_cvurl = 'https://api.projectoxford.ai/vision/v1/analyses'\n",
    "_faceurl = 'https://api.projectoxford.ai/face/v1.0/detect'\n",
    "_emotiurl = 'https://api.projectoxford.ai/emotion/v1.0/recognize'\n",
    "_cvkey = \"insert_key_here\" #Here you have to paste your primary key\n",
    "_emotikey = \"insert_key_here\"\n",
    "_facekey = \"insert_key_here\"\n",
    "_maxNumRetries = 5\n",
    "client = MongoClient('localhost:27017')\n",
    "db = client.Teenie"
   ]
  },
  {
   "cell_type": "markdown",
   "metadata": {},
   "source": [
    "## Helper functions"
   ]
  },
  {
   "cell_type": "code",
   "execution_count": 122,
   "metadata": {
    "collapsed": true
   },
   "outputs": [],
   "source": [
    "def processRequest(request_type ,json, data, headers, params = None ):\n",
    "\n",
    "    \"\"\"\n",
    "    Helper function to process the request to Project Oxford\n",
    "\n",
    "    Parameters:\n",
    "    json: Used when processing images from its URL. See API Documentation\n",
    "    data: Used when processing image read from disk. See API Documentation\n",
    "    headers: Used to pass the key information and the data type request\n",
    "    \"\"\"\n",
    "\n",
    "    retries = 0\n",
    "    result = None\n",
    "    if request_type not in [\"cv\", \"face\", \"emotion\"] : return result\n",
    "    while True:\n",
    "        if request_type == \"cv\" :\n",
    "            _url = _cvurl\n",
    "            response = requests.request( 'post', _url, json = json, data = data, headers = headers, params = params )\n",
    "        elif request_type == \"face\":\n",
    "            _url = _faceurl\n",
    "            response = requests.request( 'post', _url, json = json, data = data, headers = headers, params = params )\n",
    "        else:\n",
    "            _url = _emotiurl\n",
    "            response = requests.request( 'post', _url, json = json, data = data, headers = headers)\n",
    "            \n",
    "            \n",
    "        if response.status_code == 429: \n",
    "\n",
    "            print( \"Message: %s\" % ( response.json()['error']['message'] ) )\n",
    "\n",
    "            if retries <= _maxNumRetries: \n",
    "                time.sleep(1) \n",
    "                retries += 1\n",
    "                continue\n",
    "            else: \n",
    "                print( 'Error: failed after retrying!' )\n",
    "                break\n",
    "\n",
    "        elif response.status_code == 200 or response.status_code == 201:\n",
    "\n",
    "            if 'content-length' in response.headers and int(response.headers['content-length']) == 0: \n",
    "                result = None \n",
    "            elif 'content-type' in response.headers and isinstance(response.headers['content-type'], str): \n",
    "                if 'application/json' in response.headers['content-type'].lower(): \n",
    "                    result = response.json() if response.content else None \n",
    "                elif 'image' in response.headers['content-type'].lower(): \n",
    "                    result = response.content\n",
    "        else:\n",
    "            print( \"Error code: %d\" % ( response.status_code ) )\n",
    "            print( \"Message: %s\" % ( response.json()['error']['message'] ) )\n",
    "\n",
    "        break\n",
    "        \n",
    "    return result"
   ]
  },
  {
   "cell_type": "markdown",
   "metadata": {},
   "source": [
    "## Analysis of an image stored on disk"
   ]
  },
  {
   "cell_type": "code",
   "execution_count": 123,
   "metadata": {
    "collapsed": false
   },
   "outputs": [
    {
     "name": "stdout",
     "output_type": "stream",
     "text": [
      "{u'description': {u'captions': [{u'text': u'a couple of men standing next to a knife', u'confidence': 0.2894425204059733}], u'tags': [u'person', u'standing', u'indoor', u'man', u'holding', u'photo', u'white', u'black', u'kitchen', u'couple', u'young', u'knife', u'umbrella', u'wearing', u'room', u'woman', u'group', u'cutting', u'people']}, u'tags': [{u'confidence': 0.9997178912162781, u'name': u'person'}, {u'confidence': 0.9611486196517944, u'name': u'wall'}, {u'confidence': 0.9590303897857666, u'name': u'standing'}, {u'confidence': 0.9172515869140625, u'name': u'indoor'}, {u'confidence': 0.9094495177268982, u'name': u'man'}], u'requestId': u'8ba22c8c-d6a5-4e8b-bbf3-7c7adeb9b89e', u'faces': [{u'gender': u'Male', u'age': 32, u'faceRectangle': {u'width': 132, u'top': 345, u'height': 132, u'left': 865}}, {u'gender': u'Male', u'age': 30, u'faceRectangle': {u'width': 43, u'top': 412, u'height': 43, u'left': 102}}], u'categories': [{u'score': 0.65625, u'name': u'people_'}, {u'score': 0.20703125, u'name': u'people_group'}], u'metadata': {u'width': 1268, u'format': u'Png', u'height': 1600}}\n",
      "[{u'faceId': u'594b3549-af55-4b8e-b96a-a2ceb32d1747', u'faceRectangle': {u'width': 132, u'top': 345, u'height': 132, u'left': 865}, u'faceAttributes': {u'gender': u'male', u'age': 32.4, u'facialHair': {u'sideburns': 0.0, u'moustache': 0.1, u'beard': 0.3}, u'headPose': {u'yaw': -54.8, u'roll': -1.6, u'pitch': 0.0}, u'smile': 0.127, u'glasses': u'NoGlasses'}, u'faceLandmarks': {u'underLipTop': {u'y': 449.7, u'x': 934.5}, u'noseTip': {u'y': 417.3, u'x': 907.2}, u'upperLipBottom': {u'y': 449.8, u'x': 932.1}, u'noseLeftAlarTop': {u'y': 399.2, u'x': 908.0}, u'eyebrowLeftOuter': {u'y': 359.6, u'x': 904.2}, u'eyeLeftBottom': {u'y': 372.0, u'x': 911.8}, u'pupilLeft': {u'y': 370.5, u'x': 912.6}, u'upperLipTop': {u'y': 447.1, u'x': 929.9}, u'eyeLeftInner': {u'y': 370.1, u'x': 914.6}, u'eyeRightInner': {u'y': 373.0, u'x': 943.4}, u'eyeLeftTop': {u'y': 367.9, u'x': 911.6}, u'mouthLeft': {u'y': 453.1, u'x': 929.1}, u'noseRightAlarTop': {u'y': 403.4, u'x': 936.0}, u'eyebrowRightInner': {u'y': 360.7, u'x': 923.2}, u'noseLeftAlarOutTip': {u'y': 420.8, u'x': 907.3}, u'noseRightAlarOutTip': {u'y': 417.9, u'x': 941.1}, u'noseRootRight': {u'y': 372.8, u'x': 932.3}, u'eyeLeftOuter': {u'y': 370.7, u'x': 908.5}, u'underLipBottom': {u'y': 457.2, u'x': 935.8}, u'eyeRightTop': {u'y': 369.1, u'x': 950.3}, u'eyeRightOuter': {u'y': 373.5, u'x': 959.3}, u'noseRootLeft': {u'y': 370.5, u'x': 918.6}, u'eyebrowRightOuter': {u'y': 362.1, u'x': 968.1}, u'eyeRightBottom': {u'y': 377.6, u'x': 950.5}, u'eyebrowLeftInner': {u'y': 363.2, u'x': 914.3}, u'mouthRight': {u'y': 450.5, u'x': 958.7}, u'pupilRight': {u'y': 374.2, u'x': 948.6}}}, {u'faceId': u'd0821a0f-9937-4e1b-841c-8e1d8c342554', u'faceRectangle': {u'width': 43, u'top': 412, u'height': 43, u'left': 102}, u'faceAttributes': {u'gender': u'male', u'age': 30.4, u'facialHair': {u'sideburns': 0.2, u'moustache': 0.2, u'beard': 0.1}, u'headPose': {u'yaw': -11.9, u'roll': -3.2, u'pitch': 0.0}, u'smile': 0.092, u'glasses': u'NoGlasses'}, u'faceLandmarks': {u'underLipTop': {u'y': 446.1, u'x': 123.1}, u'noseTip': {u'y': 436.5, u'x': 122.1}, u'upperLipBottom': {u'y': 445.4, u'x': 123.1}, u'noseLeftAlarTop': {u'y': 432.2, u'x': 120.1}, u'eyebrowLeftOuter': {u'y': 423.6, u'x': 111.5}, u'eyeLeftBottom': {u'y': 425.4, u'x': 117.8}, u'pupilLeft': {u'y': 424.3, u'x': 117.7}, u'upperLipTop': {u'y': 444.0, u'x': 122.9}, u'eyeLeftInner': {u'y': 423.9, u'x': 119.7}, u'eyeRightInner': {u'y': 421.4, u'x': 128.7}, u'eyeLeftTop': {u'y': 423.0, u'x': 117.2}, u'mouthLeft': {u'y': 447.0, u'x': 116.8}, u'noseRightAlarTop': {u'y': 431.8, u'x': 126.4}, u'eyebrowRightInner': {u'y': 419.1, u'x': 126.7}, u'noseLeftAlarOutTip': {u'y': 436.2, u'x': 118.0}, u'noseRightAlarOutTip': {u'y': 435.6, u'x': 128.4}, u'noseRootRight': {u'y': 423.8, u'x': 125.8}, u'eyeLeftOuter': {u'y': 425.5, u'x': 115.2}, u'underLipBottom': {u'y': 448.7, u'x': 123.4}, u'eyeRightTop': {u'y': 418.8, u'x': 130.9}, u'eyeRightOuter': {u'y': 420.2, u'x': 133.7}, u'noseRootLeft': {u'y': 424.4, u'x': 121.9}, u'eyebrowRightOuter': {u'y': 418.2, u'x': 138.2}, u'eyeRightBottom': {u'y': 421.2, u'x': 131.4}, u'eyebrowLeftInner': {u'y': 421.4, u'x': 120.5}, u'mouthRight': {u'y': 443.9, u'x': 131.4}, u'pupilRight': {u'y': 420.1, u'x': 131.1}}}]\n",
      "[{u'faceRectangle': {u'width': 132, u'top': 345, u'left': 865, u'height': 132}, u'scores': {u'sadness': 0.001184409, u'neutral': 0.995492339, u'contempt': 0.00013152734, u'disgust': 1.627637e-05, u'anger': 0.000886171532, u'surprise': 0.000299986859, u'fear': 1.12440748e-05, u'happiness': 0.00197804114}}, {u'faceRectangle': {u'width': 43, u'top': 412, u'left': 102, u'height': 43}, u'scores': {u'sadness': 5.4803324e-05, u'neutral': 0.997769237, u'contempt': 0.00100887648, u'disgust': 1.36391545e-05, u'anger': 0.00016992382, u'surprise': 6.53163033e-06, u'fear': 3.50762122e-08, u'happiness': 0.0009769809}}]\n"
     ]
    }
   ],
   "source": [
    "# Load raw image file into memory\n",
    "data = None \n",
    "pathToFileInDisk = r'/Users/zariahoward/Desktop/Box_085/13391.png'\n",
    "with open( pathToFileInDisk, 'rb' ) as f:\n",
    "    data = f.read()\n",
    "    \n",
    "# Computer Vision parameters\n",
    "cvparams = { 'visualFeatures' : 'Categories,Tags,Description,Faces'} \n",
    "faceparams = {'returnFaceId' : True, 'returnFaceLandmarks' : True, 'returnFaceAttributes':'age,gender,headPose,smile,facialHair,glasses'}\n",
    "#emotion api does not take parameters\n",
    "headers = dict()\n",
    "headers['Ocp-Apim-Subscription-Key'] = _cvkey\n",
    "headers['Content-Type'] = 'application/octet-stream'\n",
    "\n",
    "json = None\n",
    "\n",
    "result1 = processRequest(\"cv\", json, data, headers, cvparams )\n",
    "headers['Ocp-Apim-Subscription-Key'] = _facekey\n",
    "result2 = processRequest(\"face\", json, data, headers, faceparams )\n",
    "headers['Ocp-Apim-Subscription-Key'] = _emotikey\n",
    "result3 = processRequest(\"emotion\", json, data, headers)\n",
    "\n",
    "#make a log of anything that results in none so that it can be retried\n",
    "if (result1 is not None) or (result2 is not None) or (result3 is not None):\n",
    "    # Load the original image, fetched from the URL\n",
    "#     data8uint = np.fromstring( data, np.uint8 ) # Convert string to an unsigned int array\n",
    "#     img = cv2.cvtColor( cv2.imdecode( data8uint, cv2.IMREAD_COLOR ), cv2.COLOR_BGR2RGB )\n",
    "\n",
    "#     renderResultOnImage( result, img )\n",
    "\n",
    "#     ig, ax = plt.subplots(figsize=(15, 20))\n",
    "#     ax.imshow( img )\n",
    "    print(result1) #dict\n",
    "    print(result2) #list\n",
    "    print(result3) #list\n",
    "    \n",
    "    "
   ]
  },
  {
   "cell_type": "code",
   "execution_count": 124,
   "metadata": {
    "collapsed": false
   },
   "outputs": [],
   "source": [
    "# pp = pprint.PrettyPrinter(depth=6,indent=4)\n",
    "# print(\"Result1\")\n",
    "# pp.pprint(result1)\n",
    "\n",
    "#Takes everything out of unicode\n",
    "result1 = eval(json_lib.dumps(result1))\n",
    "result2 = eval(json_lib.dumps(result2))\n",
    "result3 = eval(json_lib.dumps(result3))\n",
    "\n",
    "cap_concatenated = \" \"\n",
    "for caption in result1['description']['captions']:\n",
    "    cap_concatenated = caption['text'] + \" \" + cap_concatenated\n",
    "\n",
    "new_data_point = {\n",
    "        \"path\": pathToFileInDisk,\n",
    "        \"caption\": cap_concatenated\n",
    "    }\n",
    "for tag in result1['description']['tags']:\n",
    "    new_data_point[tag] = True\n",
    "for ind in result1['categories']:\n",
    "    new_data_point[ind['name']] = ind['score']\n",
    "k = 0  \n",
    "obj_id = db.Photos.insert(new_data_point)\n",
    "obj_id_str = repr(obj_id).split(\"'\")[1]  \n"
   ]
  },
  {
   "cell_type": "code",
   "execution_count": 125,
   "metadata": {
    "collapsed": false
   },
   "outputs": [],
   "source": [
    "# type(result1['description']['tags'][1])\n",
    "# altered = eval(json.dumps(result1))\n",
    "# pp.pprint(eval(json.dumps(result3)))\n",
    "# pp.pprint(eval(json.dumps(result2)))\n",
    "#make one json for the face details\n",
    "for face in result3:\n",
    "    for compare_face in result2:\n",
    "        if ((face['faceRectangle']['left'] == compare_face['faceRectangle']['left']) and\n",
    "            (face['faceRectangle']['top'] == compare_face['faceRectangle']['top'])):\n",
    "            compare_face['scores'] = face['scores']\n",
    "\n",
    "face_obj_id_list = []\n",
    "\n",
    "for ind in result2:\n",
    "    new_face_point = {} #instead of result2 set it equal to a list of object ids returned from mongodb\n",
    "    new_face_point['photoId'] = obj_id\n",
    "    for dim in ind['faceRectangle']:\n",
    "        new_face_point[dim] = ind['faceRectangle'][dim]\n",
    "    for emotion in ind['scores']:\n",
    "        new_face_point[emotion] = ind['scores'][emotion]\n",
    "    for marks in ind['faceLandmarks']:\n",
    "        new_face_point[marks] = ind['faceLandmarks'][marks]\n",
    "    new_face_point['age'] = ind['faceAttributes']['age']\n",
    "    new_face_point['beard'] = ind['faceAttributes']['facialHair']['beard']\n",
    "    new_face_point['moustache'] = ind['faceAttributes']['facialHair']['moustache']\n",
    "    new_face_point['sideburns'] = ind['faceAttributes']['facialHair']['sideburns']\n",
    "    new_face_point['gender'] = ind['faceAttributes']['gender']\n",
    "    new_face_point['smile'] = ind['faceAttributes']['smile']\n",
    "    new_face_point['headPose_pitch'] = ind['faceAttributes']['headPose']['pitch']\n",
    "    new_face_point['headPose_roll'] = ind['faceAttributes']['headPose']['roll']\n",
    "    new_face_point['headPose_yaw'] = ind['faceAttributes']['headPose']['yaw']\n",
    "\n",
    "    face_obj_id = db.Faces.insert(new_face_point)\n",
    "    face_obj_id_list.append(face_obj_id)\n",
    "    \n",
    "# update a data point with the list of faces\n",
    "new = db.Photos.update({\n",
    "  '_id': obj_id\n",
    "},{\n",
    "  '$set': {\n",
    "    'face_data': face_obj_id_list\n",
    "  }\n",
    "}, upsert=False, multi=False)\n",
    "    "
   ]
  },
  {
   "cell_type": "code",
   "execution_count": 119,
   "metadata": {
    "collapsed": false
   },
   "outputs": [
    {
     "name": "stdout",
     "output_type": "stream",
     "text": [
      "{u'people': True, u'photo': True, u'indoor': True, u'people_': 0.65625, u'standing': True, u'group': True, u'caption': u'a couple of men standing next to a knife  ', u'face_data': [ObjectId('583df2a84205f36f5699f7a9'), ObjectId('583df2a84205f36f5699f7aa')], u'young': True, u'black': True, u'holding': True, u'white': True, u'man': True, u'knife': True, u'wearing': True, u'people_group': 0.20703125, u'woman': True, u'umbrella': True, u'couple': True, u'cutting': True, u'path': u'/Users/zariahoward/Desktop/Box_085/13391.png', u'kitchen': True, u'room': True, u'person': True, u'_id': ObjectId('583df2a84205f36f5699f7a8')}\n"
     ]
    },
    {
     "data": {
      "text/plain": [
       "\"\\n>> import pymongo\\n>>> conn = pymongo.MongoClient()\\n>>> db = conn.test #test is my database\\n>>> col = db.spam #Here spam is my collection\\n>>> cur = col.find()  \\n>>> cur\\n<pymongo.cursor.Cursor object at 0xb6d447ec>\\n>>> for doc in cur:\\n...     print(doc)\\n... \\n{'a': 1, '_id': ObjectId('54ff30faadd8f30feb90268f'), 'b': 2}\\n{'a': 1, 'c': 3, '_id': ObjectId('54ff32a2add8f30feb902690'), 'b': 2}\\n\""
      ]
     },
     "execution_count": 119,
     "metadata": {},
     "output_type": "execute_result"
    }
   ],
   "source": [
    "print(db.Photos.find_one(obj_id)) #you must retrieve by the object id returned to you\n",
    "\n",
    "'''\n",
    ">> import pymongo\n",
    ">>> conn = pymongo.MongoClient()\n",
    ">>> db = conn.test #test is my database\n",
    ">>> col = db.spam #Here spam is my collection\n",
    ">>> cur = col.find()  \n",
    ">>> cur\n",
    "<pymongo.cursor.Cursor object at 0xb6d447ec>\n",
    ">>> for doc in cur:\n",
    "...     print(doc)\n",
    "... \n",
    "{'a': 1, '_id': ObjectId('54ff30faadd8f30feb90268f'), 'b': 2}\n",
    "{'a': 1, 'c': 3, '_id': ObjectId('54ff32a2add8f30feb902690'), 'b': 2}\n",
    "'''"
   ]
  },
  {
   "cell_type": "code",
   "execution_count": null,
   "metadata": {
    "collapsed": true
   },
   "outputs": [],
   "source": []
  }
 ],
 "metadata": {
  "kernelspec": {
   "display_name": "Python 2",
   "language": "python",
   "name": "python2"
  },
  "language_info": {
   "codemirror_mode": {
    "name": "ipython",
    "version": 2
   },
   "file_extension": ".py",
   "mimetype": "text/x-python",
   "name": "python",
   "nbconvert_exporter": "python",
   "pygments_lexer": "ipython2",
   "version": "2.7.12"
  }
 },
 "nbformat": 4,
 "nbformat_minor": 0
}
