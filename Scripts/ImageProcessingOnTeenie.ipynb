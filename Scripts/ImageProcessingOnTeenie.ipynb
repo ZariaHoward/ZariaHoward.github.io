{
 "cells": [
  {
   "cell_type": "code",
   "execution_count": 20,
   "metadata": {
    "collapsed": false
   },
   "outputs": [],
   "source": [
    "from PIL import Image\n",
    "from PIL import ImageFilter\n",
    "from PIL import ImageOps\n",
    "from __future__ import print_function\n",
    "from pymongo import MongoClient\n",
    "from bson import ObjectId\n",
    "client = MongoClient('localhost:27017')\n",
    "db = client.Teenie"
   ]
  },
  {
   "cell_type": "code",
   "execution_count": null,
   "metadata": {
    "collapsed": true
   },
   "outputs": [],
   "source": [
    "im = Image.open(\"/Users/zariahoward/Desktop/Box_085/13321.png\").convert(\"RGB\")\n",
    "print(im.format, im.size, im.mode)\n",
    "box = (100, 100, 400, 400) # (x,y,w,h)\n",
    "region = im.crop(box) # get a portion of the image the size of the box\n",
    "region = region.transpose(Image.ROTATE_180) \n",
    "# out = im.transpose(Image.FLIP_LEFT_RIGHT)\n",
    "# out = im.transpose(Image.FLIP_TOP_BOTTOM)\n",
    "# out = im.transpose(Image.ROTATE_90)\n",
    "# out = im.transpose(Image.ROTATE_180)\n",
    "# out = im.transpose(Image.ROTATE_270)\n",
    "im.paste(region, box)\n",
    "im.show()"
   ]
  },
  {
   "cell_type": "code",
   "execution_count": 4,
   "metadata": {
    "collapsed": true
   },
   "outputs": [],
   "source": [
    "def roll(image, delta):\n",
    "    \"Roll an image sideways\"\n",
    "\n",
    "    xsize, ysize = image.size\n",
    "\n",
    "    delta = delta % xsize\n",
    "    if delta == 0: return image\n",
    "\n",
    "    part1 = image.crop((0, 0, delta, ysize))\n",
    "    part2 = image.crop((delta, 0, xsize, ysize))\n",
    "    image.paste(part2, (0, 0, xsize-delta, ysize))\n",
    "    image.paste(part1, (xsize-delta, 0, xsize, ysize))\n",
    "\n",
    "    return image"
   ]
  },
  {
   "cell_type": "code",
   "execution_count": 6,
   "metadata": {
    "collapsed": true
   },
   "outputs": [],
   "source": [
    "rolled_im = roll(im,500)  #shifts an image in a special way. Very nice effect\n",
    "rolled_im.show()"
   ]
  },
  {
   "cell_type": "code",
   "execution_count": 13,
   "metadata": {
    "collapsed": false
   },
   "outputs": [
    {
     "name": "stdout",
     "output_type": "stream",
     "text": [
      "3\n"
     ]
    }
   ],
   "source": [
    "# split the image into individual bands\n",
    "source = im.split()\n",
    "print(len(source))\n",
    "R, G, B, A = 0, 1, 2, 3\n",
    "\n",
    "# select regions where red is less than 100\n",
    "mask = source[R].point(lambda i: i < 100 and 255)\n",
    "\n",
    "# process the green band\n",
    "out = source[G].point(lambda i: i * 0.4)\n",
    "\n",
    "# paste the processed band back, but only where red was < 100\n",
    "source[G].paste(out, None, mask)\n",
    "\n",
    "# build a new multiband image\n",
    "im = Image.merge(im.mode, source) #takes a  mode and a source\n",
    "im.show()"
   ]
  },
  {
   "cell_type": "code",
   "execution_count": 16,
   "metadata": {
    "collapsed": false
   },
   "outputs": [
    {
     "data": {
      "text/plain": [
       "False"
      ]
     },
     "execution_count": 16,
     "metadata": {},
     "output_type": "execute_result"
    }
   ],
   "source": [
    "120 < 100 and 255"
   ]
  },
  {
   "cell_type": "code",
   "execution_count": 21,
   "metadata": {
    "collapsed": false
   },
   "outputs": [],
   "source": [
    "blurred_image = im.filter(ImageFilter.GaussianBlur(radius = 20))\n",
    "blurred_image.show()"
   ]
  },
  {
   "cell_type": "code",
   "execution_count": 28,
   "metadata": {
    "collapsed": false
   },
   "outputs": [],
   "source": [
    "inverted_image = ImageOps.invert(blurred_image)\n",
    "inverted_image.show()"
   ]
  },
  {
   "cell_type": "code",
   "execution_count": null,
   "metadata": {
    "collapsed": true
   },
   "outputs": [],
   "source": [
    "http://pillow.readthedocs.io/en/3.0.x/handbook/tutorial.html#color-transforms"
   ]
  },
  {
   "cell_type": "code",
   "execution_count": 39,
   "metadata": {
    "collapsed": false
   },
   "outputs": [
    {
     "name": "stdout",
     "output_type": "stream",
     "text": [
      "advancedFaceDetected\n",
      "old\n",
      "face_data\n",
      "underLipTop\n",
      "woah\n",
      "noseTip\n",
      "woah\n",
      "height\n",
      "woah\n",
      "upperLipBottom\n",
      "woah\n",
      "noseLeftAlarTop\n",
      "woah\n",
      "anger\n",
      "woah\n",
      "pupilRight\n",
      "woah\n",
      "fear\n",
      "woah\n",
      "eyebrowLeftOuter\n",
      "woah\n",
      "headPose_roll\n",
      "woah\n",
      "contempt\n",
      "woah\n",
      "pupilLeft\n",
      "woah\n",
      "sideburns\n",
      "woah\n",
      "eyeLeftBottom\n",
      "woah\n",
      "top\n",
      "woah\n",
      "upperLipTop\n",
      "woah\n",
      "eyeLeftInner\n",
      "woah\n",
      "eyeLeftOuter\n",
      "woah\n",
      "eyeRightInner\n",
      "woah\n",
      "width\n",
      "woah\n",
      "eyeLeftTop\n",
      "woah\n",
      "happiness\n",
      "woah\n",
      "disgust\n",
      "woah\n",
      "noseRightAlarOutTip\n",
      "woah\n",
      "noseRightAlarTop\n",
      "woah\n",
      "surprise\n",
      "woah\n",
      "beard\n",
      "woah\n",
      "eyebrowRightInner\n",
      "woah\n",
      "noseLeftAlarOutTip\n",
      "woah\n",
      "mouthLeft\n",
      "woah\n",
      "neutral\n",
      "woah\n",
      "noseRootRight\n",
      "woah\n",
      "smile\n",
      "woah\n",
      "photoId\n",
      "woah\n",
      "headPose_yaw\n",
      "woah\n",
      "underLipBottom\n",
      "woah\n",
      "eyeRightTop\n",
      "woah\n",
      "eyeRightOuter\n",
      "woah\n",
      "headPose_pitch\n",
      "woah\n",
      "gender\n",
      "woah\n",
      "age\n",
      "woah\n",
      "noseRootLeft\n",
      "woah\n",
      "eyebrowRightOuter\n",
      "woah\n",
      "eyeRightBottom\n",
      "woah\n",
      "sadness\n",
      "woah\n",
      "eyebrowLeftInner\n",
      "woah\n",
      "mouthRight\n",
      "woah\n",
      "_id\n",
      "woah\n",
      "moustache\n",
      "woah\n",
      "left\n",
      "woah\n",
      "underLipTop\n",
      "woah\n",
      "noseTip\n",
      "woah\n",
      "height\n",
      "woah\n",
      "upperLipBottom\n",
      "woah\n",
      "noseLeftAlarTop\n",
      "woah\n",
      "anger\n",
      "woah\n",
      "pupilRight\n",
      "woah\n",
      "fear\n",
      "woah\n",
      "eyebrowLeftOuter\n",
      "woah\n",
      "headPose_roll\n",
      "woah\n",
      "contempt\n",
      "woah\n",
      "pupilLeft\n",
      "woah\n",
      "sideburns\n",
      "woah\n",
      "eyeLeftBottom\n",
      "woah\n",
      "top\n",
      "woah\n",
      "upperLipTop\n",
      "woah\n",
      "eyeLeftInner\n",
      "woah\n",
      "eyeLeftOuter\n",
      "woah\n",
      "eyeRightInner\n",
      "woah\n",
      "width\n",
      "woah\n",
      "eyeLeftTop\n",
      "woah\n",
      "happiness\n",
      "woah\n",
      "disgust\n",
      "woah\n",
      "noseRightAlarOutTip\n",
      "woah\n",
      "noseRightAlarTop\n",
      "woah\n",
      "surprise\n",
      "woah\n",
      "beard\n",
      "woah\n",
      "eyebrowRightInner\n",
      "woah\n",
      "noseLeftAlarOutTip\n",
      "woah\n",
      "mouthLeft\n",
      "woah\n",
      "neutral\n",
      "woah\n",
      "noseRootRight\n",
      "woah\n",
      "smile\n",
      "woah\n",
      "photoId\n",
      "woah\n",
      "headPose_yaw\n",
      "woah\n",
      "underLipBottom\n",
      "woah\n",
      "eyeRightTop\n",
      "woah\n",
      "eyeRightOuter\n",
      "woah\n",
      "headPose_pitch\n",
      "woah\n",
      "gender\n",
      "woah\n",
      "age\n",
      "woah\n",
      "noseRootLeft\n",
      "woah\n",
      "eyebrowRightOuter\n",
      "woah\n",
      "eyeRightBottom\n",
      "woah\n",
      "sadness\n",
      "woah\n",
      "eyebrowLeftInner\n",
      "woah\n",
      "mouthRight\n",
      "woah\n",
      "_id\n",
      "woah\n",
      "moustache\n",
      "woah\n",
      "left\n",
      "woah\n",
      "photo\n",
      "indoor\n",
      "posing\n",
      "table\n",
      "girl\n",
      "standing\n",
      "caption\n",
      "young\n",
      "looking\n",
      "black\n",
      "board\n",
      "holding\n",
      "suit\n",
      "white\n",
      "wearing\n",
      "woman\n",
      "umbrella\n",
      "sitting\n",
      "abstract_\n",
      "phone\n",
      "front\n",
      "path\n",
      "man\n",
      "room\n",
      "others_\n",
      "person\n",
      "suitcase\n",
      "_id\n"
     ]
    }
   ],
   "source": [
    "\n",
    "curr_photo = db.Photos.find_one({'path':\"/Volumes/HueyFreeman/Teenie_Harris_PNG1024/Box_082/12966.png\" })\n",
    "for attrib_key in curr_photo:\n",
    "    print(attrib_key)\n",
    "    if attrib_key == 'face_data': \n",
    "\n",
    "        faces = db.Faces.find({'photoId' : ObjectId(curr_photo['_id'])})\n",
    "    for obj in faces:\n",
    "        for part in obj:\n",
    "            print(part)\n",
    "            print(\"woah\")\n",
    "    if (type(curr_photo[attrib_key])== dict) and (\"x\" in curr_photo[attrib_key]) and (\"y\" in curr_photo[attrib_key]):\n",
    "        print(curr_photo[attrib_key][\"x\"])"
   ]
  },
  {
   "cell_type": "code",
   "execution_count": 14,
   "metadata": {
    "collapsed": false
   },
   "outputs": [
    {
     "name": "stdout",
     "output_type": "stream",
     "text": [
      "Small one story houses, including one marked \"81\" with man on ladder, and other houses in background\n"
     ]
    }
   ],
   "source": [
    "import csv\n",
    "with open('/Volumes/HueyFreeman/TeenieHarrisGithub/teenie.csv') as csvfile:\n",
    "    reader = csv.DictReader(csvfile)\n",
    "#     \"web_url\": \"http://www.cmoa.org/CollectionDetail.aspx?item=445\"\n",
    "    for row in reader:\n",
    "        if \"item=\" + str(71757) in row['web_url']:\n",
    "            print(row['title'])\n",
    "            break"
   ]
  },
  {
   "cell_type": "code",
   "execution_count": 7,
   "metadata": {
    "collapsed": false
   },
   "outputs": [
    {
     "name": "stdout",
     "output_type": "stream",
     "text": [
      "item=1234\n"
     ]
    }
   ],
   "source": [
    "filename = \"/Volumes/HueyFreeman/Teenie_Harris_PNG1024/Box_098/1234.png\"\n",
    "filenumber = filename[filename.index(\"Box\")+8:-4]\n",
    "print(\"item=\"+ filenumber)"
   ]
  },
  {
   "cell_type": "code",
   "execution_count": null,
   "metadata": {
    "collapsed": true
   },
   "outputs": [],
   "source": []
  }
 ],
 "metadata": {
  "kernelspec": {
   "display_name": "Python 2",
   "language": "python",
   "name": "python2"
  },
  "language_info": {
   "codemirror_mode": {
    "name": "ipython",
    "version": 2
   },
   "file_extension": ".py",
   "mimetype": "text/x-python",
   "name": "python",
   "nbconvert_exporter": "python",
   "pygments_lexer": "ipython2",
   "version": "2.7.12"
  }
 },
 "nbformat": 4,
 "nbformat_minor": 1
}
